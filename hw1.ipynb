{
 "cells": [
  {
   "cell_type": "markdown",
   "metadata": {},
   "source": [
    "# CIS024C - Summer 2018 - Mon/Tues/Wed/Thurs 3-5:50pm\n",
    "\n",
    "## Homework 1\n",
    "\n",
    "Homework 1 covers some of the basics including setup and installation of Github and Anaconda/Jupyter for python development\n",
    "\n",
    "You will need to download this notebook and use this as a starting point for your homework. You will just need to fill in the content of each code-block (cell) and execute. Once you have completed all the exercises, you will need to save and upload this to your github repository under a folder called hw1.\n",
    "\n",
    "Note also the exercises build on top of one another so you might be able to do the next exercise if you have not completed the previous exercise.\n",
    "\n",
    "Post any questions you have on our Slack at **cis-024c1.slack.com**"
   ]
  },
  {
   "cell_type": "markdown",
   "metadata": {},
   "source": [
    "### 1. Install Anaconda/Jupyter Notebook on your computer\n",
    "\n",
    "#### Steps\n",
    "1. Go to https://www.anaconda.com/download and download the appropriate anaconda distribution for your Windows or Mac computer. Make sure to select the version of Anaconda corresponding to Python 3.6\n",
    "2. Install the Anaconda distribution on your computer. \n",
    "3. Open the newly installed Anaconda application.\n",
    "4. Launch Jupyter Notebook from the set of Anaconda applications.\n",
    "5. You should see a page open in your browser. This is where you will enter your Python code.\n",
    "\n",
    "Use the screen-shots here and the lecture slides to help with the installation.\n",
    "\n",
    "* Environment Tools setup: https://drive.google.com/open?id=0B1lcsFkP-bjVUTFFeDZpUkRBVjg\n",
    "* Week 1 Lecture slides:  https://docs.google.com/presentation/d/1X2EUPSro2ljGJ76iMgXOZMGPwGH3xROiAs8jXf58Cyc/edit?usp=sharing\n"
   ]
  },
  {
   "cell_type": "markdown",
   "metadata": {},
   "source": [
    "### 2. Set up Github on your computer\n",
    "\n",
    "Github is the tool that we will be using to upload assignment and project code. \n",
    "\n",
    "#### Steps\n",
    "\n",
    "1. Open your browser and navigate to https://github.com/\n",
    "2. Sign up for a github account. You will need to pick a username, provide your email and a password.\n",
    "3. Github will send you an email that you will need to click to verify your email address.\n",
    "4. Once you have successfully logged in to Github, you will need to create a new repository for your cis024c class. You can call the repository cis024c if you like. This is a sample repository that we created in class on week 1 - https://github.com/dorairajsanjay1/cis024c\n",
    "5. Once the repository is created you should be able to upload your assignments here using the \"Upload files\" button.\n",
    "6. Make sure that you create each homework and project in a directory (or folder) and upload the folder so that the top level of repository is not cluttered.\n",
    "\n",
    "Use the screen-shots here and the lecture slides to help with the installation.\n",
    "\n",
    "* Environment Tools setup: https://drive.google.com/open?id=0B1lcsFkP-bjVUTFFeDZpUkRBVjg\n",
    "* Week 1 Lecture slides:  https://docs.google.com/presentation/d/1X2EUPSro2ljGJ76iMgXOZMGPwGH3xROiAs8jXf58Cyc/edit?usp=sharing\n"
   ]
  },
  {
   "cell_type": "markdown",
   "metadata": {},
   "source": [
    "### 3 Coding Exercises\n",
    "\n",
    "In this section of the homework, you will be doing some simple coding exercise to familiarize yourself with your Python development environment - Jupyter. A development environment is also referred to as an IDE or Integrated Development Environment. \n",
    "\n",
    "Below are some useful commands to know when using Jupyter\n",
    "\n",
    "1. You can add a new cell by clicking on the \"+\" icon on top.\n",
    "2. You can delete a cell by selecting that cell and clicking on the \"scissors\" icon on top.\n",
    "3. You can execute a cell by either pressing shift+enter or selecting the \"play\" button on top.\n",
    "4. You can create a new file in Jupyter via the File menu->New Notebook option. Make sure to select Python 2 when creating your notebook.\n",
    "5. Also, for your code blocks make sure that Code is selected instead of another option like Markdown.\n",
    "6. Use the Enter key to go to the next line in a cell to enter the next statement.\n",
    "7. You can clear results by clicking on the Cell menu item and selecting Current Output->Clear or All Output->Clear depending on whether you are trying to just clear the output for one cell or for all cells.\n",
    "8. In case your program has crashed for some reason (infinite loop, for example), you can restart your Python session by select Kernel in the menu and selecting Restart.\n"
   ]
  },
  {
   "cell_type": "markdown",
   "metadata": {},
   "source": [
    "#### Sample Exercise 1\n",
    "\n",
    "Create two variables x and y. Assign the value of 5 to x and 10 to y. Display the result for x and y"
   ]
  },
  {
   "cell_type": "code",
   "execution_count": 2,
   "metadata": {},
   "outputs": [
    {
     "name": "stdout",
     "output_type": "stream",
     "text": [
      "5 10\n"
     ]
    }
   ],
   "source": [
    "x = 5\n",
    "y = 10\n",
    "print(x,y)"
   ]
  },
  {
   "cell_type": "markdown",
   "metadata": {},
   "source": [
    "#### Sample Exercise 2\n",
    "\n",
    "Create two variables x and y. Assign an arbitrary value to them. Find the sum of x and y and assign to a new variable z. Display the result for z"
   ]
  },
  {
   "cell_type": "code",
   "execution_count": 3,
   "metadata": {},
   "outputs": [
    {
     "name": "stdout",
     "output_type": "stream",
     "text": [
      "30\n"
     ]
    }
   ],
   "source": [
    "x = 10\n",
    "y = 20\n",
    "z = x + y\n",
    "print(z)"
   ]
  },
  {
   "cell_type": "code",
   "execution_count": null,
   "metadata": {},
   "outputs": [],
   "source": []
  }
 ],
 "metadata": {
  "kernelspec": {
   "display_name": "Python 3",
   "language": "python",
   "name": "python3"
  },
  "language_info": {
   "codemirror_mode": {
    "name": "ipython",
    "version": 3
   },
   "file_extension": ".py",
   "mimetype": "text/x-python",
   "name": "python",
   "nbconvert_exporter": "python",
   "pygments_lexer": "ipython3",
   "version": "3.6.1"
  }
 },
 "nbformat": 4,
 "nbformat_minor": 2
}
